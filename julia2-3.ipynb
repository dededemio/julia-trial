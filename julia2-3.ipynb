{
 "cells": [
  {
   "cell_type": "markdown",
   "metadata": {},
   "source": [
    "## 2.10 外部プログラムの呼び出し\n",
    "Juliaで外部プログラムを使用するには，バッククオートを用いる．  \n",
    "ただし，バッククオートでくくったコマンドを，run(), read(), open()などで利用した時に実行される．  \n",
    "また，Windowsではコマンドをコマンドプロンプトで叩くわけではなく，「ファイル名を指定して実行」で実行する場合に相当する．そのため，ただコマンドを入れただけでは`no such file or directory`というエラーになってしまう．"
   ]
  },
  {
   "cell_type": "code",
   "execution_count": 1,
   "metadata": {},
   "outputs": [
    {
     "ename": "LoadError",
     "evalue": "IOError: could not spawn `echo hello`: no such file or directory (ENOENT)",
     "output_type": "error",
     "traceback": [
      "IOError: could not spawn `echo hello`: no such file or directory (ENOENT)",
      "",
      "Stacktrace:",
      " [1] _spawn_primitive(::String, ::Cmd, ::Array{Any,1}) at .\\process.jl:99",
      " [2] #585 at .\\process.jl:112 [inlined]",
      " [3] setup_stdios(::Base.var\"#585#586\"{Cmd}, ::Array{Any,1}) at .\\process.jl:196",
      " [4] _spawn at .\\process.jl:111 [inlined]",
      " [5] run(::Cmd; wait::Bool) at .\\process.jl:439",
      " [6] run(::Cmd) at .\\process.jl:438",
      " [7] top-level scope at In[1]:1",
      " [8] include_string(::Function, ::Module, ::String, ::String) at .\\loading.jl:1091"
     ]
    }
   ],
   "source": [
    "run(`echo hello`)"
   ]
  },
  {
   "cell_type": "markdown",
   "metadata": {},
   "source": [
    "そこで，`cmd /c ～`とすればコマンドラインを叩ける．"
   ]
  },
  {
   "cell_type": "code",
   "execution_count": 2,
   "metadata": {},
   "outputs": [
    {
     "name": "stdout",
     "output_type": "stream",
     "text": [
      "hello\n"
     ]
    },
    {
     "data": {
      "text/plain": [
       "Process(`\u001b[4mcmd\u001b[24m \u001b[4m/c\u001b[24m \u001b[4mecho\u001b[24m \u001b[4mhello\u001b[24m`, ProcessExited(0))"
      ]
     },
     "execution_count": 2,
     "metadata": {},
     "output_type": "execute_result"
    }
   ],
   "source": [
    "run(`cmd /c echo hello`)"
   ]
  },
  {
   "cell_type": "markdown",
   "metadata": {},
   "source": [
    "もちろんPathが通ってるコマンドや，絶対パスを指定すればそのままでも実行できる．"
   ]
  },
  {
   "cell_type": "code",
   "execution_count": 4,
   "metadata": {},
   "outputs": [
    {
     "name": "stdout",
     "output_type": "stream",
     "text": [
      "hello python from julia\n"
     ]
    },
    {
     "data": {
      "text/plain": [
       "Process(`\u001b[4m'C:\\Python38\\python'\u001b[24m \u001b[4mhello.py\u001b[24m`, ProcessExited(0))"
      ]
     },
     "execution_count": 4,
     "metadata": {},
     "output_type": "execute_result"
    }
   ],
   "source": [
    "run(`C:\\\\Python38\\\\python hello.py`)"
   ]
  },
  {
   "cell_type": "markdown",
   "metadata": {},
   "source": [
    "## 3.2 ファイル入出力\n",
    "### 3.2.1 ファイルとストリーム\n",
    "低レベルIOは以下のように行う．"
   ]
  },
  {
   "cell_type": "code",
   "execution_count": 12,
   "metadata": {},
   "outputs": [],
   "source": [
    "lines = [\"file\", \"I/O\", \"test\"]\n",
    "# ファイルの書き込み．\"w\"->\"a\"だと追加書き込み\n",
    "open(\"test.txt\", \"w\") do f\n",
    "    for line in lines\n",
    "        println(f, line)\n",
    "    end\n",
    "end"
   ]
  },
  {
   "cell_type": "code",
   "execution_count": 13,
   "metadata": {},
   "outputs": [
    {
     "name": "stdout",
     "output_type": "stream",
     "text": [
      "file\n",
      "I/O\n",
      "test\n"
     ]
    }
   ],
   "source": [
    "# 書き込んだファイルの読み込み\n",
    "open(\"test.txt\") do f\n",
    "    for line in eachline(f)\n",
    "        println(line)\n",
    "    end\n",
    "end"
   ]
  },
  {
   "cell_type": "markdown",
   "metadata": {},
   "source": [
    "### 3.2.4 JSONファイルの入出力\n",
    "`using Pkg` `Pkg.add(\"JSON\")` しておく"
   ]
  },
  {
   "cell_type": "code",
   "execution_count": 20,
   "metadata": {},
   "outputs": [],
   "source": [
    "using JSON"
   ]
  },
  {
   "cell_type": "code",
   "execution_count": 27,
   "metadata": {},
   "outputs": [],
   "source": [
    "# JSON形式データの作成\n",
    "data = Dict(\n",
    "    \"構造\"=>\"鉄筋コンクリート造\", \n",
    "    \"階床\"=>\"8階建て\",\n",
    "    \"用途\"=>[\"事務所\",\"店舗\"]\n",
    ")\n",
    "jsondata = JSON.json(data)\n",
    "open(\"building.json\", \"w\") do f\n",
    "    print(f, jsondata)\n",
    "end"
   ]
  },
  {
   "cell_type": "code",
   "execution_count": 29,
   "metadata": {},
   "outputs": [
    {
     "name": "stdout",
     "output_type": "stream",
     "text": [
      "Dict{String,Any}(\"用途\" => Any[\"事務所\", \"店舗\"],\"階床\" => \"8階建て\",\"構造\" => \"鉄筋コンクリート造\")\n",
      "Dict{String,Any}(\"用途\" => Any[\"事務所\", \"店舗\"],\"階床\" => \"8階建て\",\"構造\" => \"鉄筋コンクリート造\")\n"
     ]
    }
   ],
   "source": [
    "# JSON形式データの解析\n",
    "println(JSON.parse(jsondata))\n",
    "println(JSON.parsefile(\"building.json\"))"
   ]
  },
  {
   "cell_type": "markdown",
   "metadata": {},
   "source": [
    "### TOMLファイル入出力\n",
    "TOMLは設定ファイルとして有力なフォーマット．Julia関係ライブラリの依存関係もProject.tomlで記述される．  \n",
    "公式のTOML.jlがあるので，インストールする．`Pkg.add(\"TOML\")`  "
   ]
  },
  {
   "cell_type": "code",
   "execution_count": 31,
   "metadata": {},
   "outputs": [],
   "source": [
    "using TOML"
   ]
  },
  {
   "cell_type": "markdown",
   "metadata": {},
   "source": [
    "試しにTOML.jlのProject.tomlをパースしてみる．\n",
    "`Pkg.add(\"HTTP\")`"
   ]
  },
  {
   "cell_type": "code",
   "execution_count": 35,
   "metadata": {},
   "outputs": [],
   "source": [
    "using HTTP"
   ]
  },
  {
   "cell_type": "code",
   "execution_count": 43,
   "metadata": {},
   "outputs": [
    {
     "name": "stdout",
     "output_type": "stream",
     "text": [
      "name = \"TOML\"\n",
      "uuid = \"fa267f1f-6049-4f14-aa54-33bafae1ed76\"\n",
      "version = \"1.0.1\"\n",
      "\n",
      "[deps]\n",
      "Dates = \"ade2ca70-3891-5945-98fb-dc099432e06a\"\n",
      "\n",
      "[compat]\n",
      "julia = \"1\"\n",
      "\n",
      "[extras]\n",
      "Test = \"8dfed614-e22c-5e08-85e1-65c5234f0b40\"\n",
      "\n",
      "[targets]\n",
      "test = [\"Test\"]\n"
     ]
    }
   ],
   "source": [
    "res = HTTP.request(\"GET\", \"https://raw.githubusercontent.com/JuliaLang/TOML.jl/master/Project.toml\")\n",
    "tomldata = String(res.body)\n",
    "print(tomldata)"
   ]
  },
  {
   "cell_type": "code",
   "execution_count": 72,
   "metadata": {},
   "outputs": [
    {
     "data": {
      "text/plain": [
       "Dict{String,Any} with 7 entries:\n",
       "  \"deps\"    => Dict{String,Any}(\"Dates\"=>\"ade2ca70-3891-5945-98fb-dc099432e06a\")\n",
       "  \"name\"    => \"TOML\"\n",
       "  \"extras\"  => Dict{String,Any}(\"Test\"=>\"8dfed614-e22c-5e08-85e1-65c5234f0b40\")\n",
       "  \"uuid\"    => \"fa267f1f-6049-4f14-aa54-33bafae1ed76\"\n",
       "  \"compat\"  => Dict{String,Any}(\"julia\"=>\"1\")\n",
       "  \"targets\" => Dict{String,Any}(\"test\"=>[\"Test\"])\n",
       "  \"version\" => \"1.0.1\""
      ]
     },
     "execution_count": 72,
     "metadata": {},
     "output_type": "execute_result"
    }
   ],
   "source": [
    "# TOMLデータの解析\n",
    "data = TOML.parse(tomldata)"
   ]
  },
  {
   "cell_type": "code",
   "execution_count": 74,
   "metadata": {},
   "outputs": [],
   "source": [
    "# TOMLデータの変更と保存\n",
    "data[\"targets\"][\"test\"] = [\"Test2\"]\n",
    "open(\"project.toml\", \"w\") do f\n",
    "    TOML.print(f, data)\n",
    "end"
   ]
  },
  {
   "cell_type": "markdown",
   "metadata": {},
   "source": [
    "### CSVファイルの入出力\n",
    "`Pkg.add(\"CSV\")` `Pkg.add(\"DataFrames\")`しておく"
   ]
  },
  {
   "cell_type": "code",
   "execution_count": 69,
   "metadata": {},
   "outputs": [],
   "source": [
    "using CSV\n",
    "using DataFrames"
   ]
  },
  {
   "cell_type": "code",
   "execution_count": 75,
   "metadata": {},
   "outputs": [
    {
     "data": {
      "text/plain": [
       "\"data.csv\""
      ]
     },
     "execution_count": 75,
     "metadata": {},
     "output_type": "execute_result"
    }
   ],
   "source": [
    "# データの作成\n",
    "data = rand(100, 4)\n",
    "df = DataFrame(data)\n",
    "# データの書き込み．\n",
    "CSV.write(\"data.csv\", df)"
   ]
  },
  {
   "cell_type": "code",
   "execution_count": 92,
   "metadata": {},
   "outputs": [
    {
     "data": {
      "text/plain": [
       "0.0"
      ]
     },
     "execution_count": 92,
     "metadata": {},
     "output_type": "execute_result"
    }
   ],
   "source": [
    "# データの読み込み\n",
    "df2 = DataFrame(CSV.File(\"data.csv\"))\n",
    "sum(Matrix(df2)-Matrix(df)) # 書き込んだデータと誤差がないことを確認"
   ]
  }
 ],
 "metadata": {
  "kernelspec": {
   "display_name": "Julia 1.5.3",
   "language": "julia",
   "name": "julia-1.5"
  },
  "language_info": {
   "file_extension": ".jl",
   "mimetype": "application/julia",
   "name": "julia",
   "version": "1.5.3"
  }
 },
 "nbformat": 4,
 "nbformat_minor": 4
}
