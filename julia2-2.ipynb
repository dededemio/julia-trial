{
 "cells": [
  {
   "cell_type": "markdown",
   "metadata": {},
   "source": [
    "## 2.2 制御構文\n",
    "### 2.2.1 if文, 2.2.3 ループ\n",
    "MATLAB同様，for, while, ifがある．終了はend．行を分けなくとも良い．"
   ]
  },
  {
   "cell_type": "code",
   "execution_count": 1,
   "metadata": {},
   "outputs": [
    {
     "name": "stdout",
     "output_type": "stream",
     "text": [
      "5\n",
      "4\n",
      "3\n",
      "2\n",
      "1\n",
      "0\n"
     ]
    }
   ],
   "source": [
    "x = 5\n",
    "for i=1:10\n",
    "    println(x)\n",
    "    x-=1\n",
    "    if(x<0) break end\n",
    "end"
   ]
  },
  {
   "cell_type": "markdown",
   "metadata": {},
   "source": [
    "### 2.2.2 短絡評価\n",
    "&&や||を使った条件評価．ifを使わず以下の表記をする  \n",
    "aならばb -> a && b  \n",
    "aでなければb -> a || b"
   ]
  },
  {
   "cell_type": "code",
   "execution_count": 2,
   "metadata": {},
   "outputs": [
    {
     "name": "stdout",
     "output_type": "stream",
     "text": [
      "5より大きい\n"
     ]
    },
    {
     "data": {
      "text/plain": [
       "true"
      ]
     },
     "execution_count": 2,
     "metadata": {},
     "output_type": "execute_result"
    }
   ],
   "source": [
    "a=10\n",
    "a>5 && println(\"5より大きい\")\n",
    "a<=30 || println(\"30以下ではない\")"
   ]
  },
  {
   "cell_type": "markdown",
   "metadata": {},
   "source": [
    "### 2.2.4 try/catch/finally\n"
   ]
  },
  {
   "cell_type": "markdown",
   "metadata": {},
   "source": [
    "## 2.3 関数\n",
    "function～endで関数を記述する．一行でもいい．"
   ]
  },
  {
   "cell_type": "code",
   "execution_count": 3,
   "metadata": {},
   "outputs": [
    {
     "data": {
      "text/plain": [
       "100"
      ]
     },
     "execution_count": 3,
     "metadata": {},
     "output_type": "execute_result"
    }
   ],
   "source": [
    "function square(x)\n",
    "    x*x\n",
    "end\n",
    "square(10)"
   ]
  },
  {
   "cell_type": "code",
   "execution_count": 4,
   "metadata": {},
   "outputs": [
    {
     "data": {
      "text/plain": [
       "144"
      ]
     },
     "execution_count": 4,
     "metadata": {},
     "output_type": "execute_result"
    }
   ],
   "source": [
    "square2(x) = x*x\n",
    "square2(12)"
   ]
  },
  {
   "cell_type": "markdown",
   "metadata": {},
   "source": [
    "戻り値を複数にするときはタプルか配列で記述する．  \n",
    "タプルは複数のオブジェクトをまとめておくデータ構造．後で値を変更したい場合や数が多い場合は配列のほうがいい．"
   ]
  },
  {
   "cell_type": "code",
   "execution_count": 5,
   "metadata": {},
   "outputs": [
    {
     "data": {
      "text/plain": [
       "(4, 8)"
      ]
     },
     "execution_count": 5,
     "metadata": {},
     "output_type": "execute_result"
    }
   ],
   "source": [
    "squarecube(x) = (x*x, x*x*x)\n",
    "squarecube(2)"
   ]
  },
  {
   "cell_type": "code",
   "execution_count": 6,
   "metadata": {},
   "outputs": [
    {
     "data": {
      "text/plain": [
       "2-element Array{Int64,1}:\n",
       "  9\n",
       " 27"
      ]
     },
     "execution_count": 6,
     "metadata": {},
     "output_type": "execute_result"
    }
   ],
   "source": [
    "squarecube2(x) = [x*x, x*x*x]\n",
    "squarecube2(3)"
   ]
  },
  {
   "cell_type": "markdown",
   "metadata": {},
   "source": [
    "### 2.3.1 可変長引数, 2.3.2 オプショナル引数, 2.3.3 キーワード引数\n",
    "xが必須の引数，yはオプショナルかつキーワード引数．"
   ]
  },
  {
   "cell_type": "code",
   "execution_count": 7,
   "metadata": {},
   "outputs": [
    {
     "data": {
      "text/plain": [
       "square3 (generic function with 1 method)"
      ]
     },
     "execution_count": 7,
     "metadata": {},
     "output_type": "execute_result"
    }
   ],
   "source": [
    "function square3(x; y=3)\n",
    "    [x*x, y*y]\n",
    "end"
   ]
  },
  {
   "cell_type": "markdown",
   "metadata": {},
   "source": [
    "yはオプションなのでなくとも良い"
   ]
  },
  {
   "cell_type": "code",
   "execution_count": 8,
   "metadata": {},
   "outputs": [
    {
     "data": {
      "text/plain": [
       "2-element Array{Int64,1}:\n",
       " 16\n",
       "  9"
      ]
     },
     "execution_count": 8,
     "metadata": {},
     "output_type": "execute_result"
    }
   ],
   "source": [
    "square3(4)"
   ]
  },
  {
   "cell_type": "markdown",
   "metadata": {},
   "source": [
    "キーワード引数(;の後ろ)なので，yを指定するときは\"y=\"というキーワードが必要"
   ]
  },
  {
   "cell_type": "code",
   "execution_count": 9,
   "metadata": {},
   "outputs": [
    {
     "data": {
      "text/plain": [
       "2-element Array{Int64,1}:\n",
       " 25\n",
       " 16"
      ]
     },
     "execution_count": 9,
     "metadata": {},
     "output_type": "execute_result"
    }
   ],
   "source": [
    "square3(5, y=4)"
   ]
  },
  {
   "cell_type": "markdown",
   "metadata": {},
   "source": [
    "可変長引数の例"
   ]
  },
  {
   "cell_type": "code",
   "execution_count": 10,
   "metadata": {},
   "outputs": [
    {
     "data": {
      "text/plain": [
       "prod (generic function with 1 method)"
      ]
     },
     "execution_count": 10,
     "metadata": {},
     "output_type": "execute_result"
    }
   ],
   "source": [
    "function prod(xs...)\n",
    "    [x*x for x in xs]\n",
    "end"
   ]
  },
  {
   "cell_type": "code",
   "execution_count": 11,
   "metadata": {},
   "outputs": [
    {
     "data": {
      "text/plain": [
       "5-element Array{Int64,1}:\n",
       "  1\n",
       "  4\n",
       "  9\n",
       " 16\n",
       " 25"
      ]
     },
     "execution_count": 11,
     "metadata": {},
     "output_type": "execute_result"
    }
   ],
   "source": [
    "prod(1, 2, 3, 4, 5)"
   ]
  },
  {
   "cell_type": "markdown",
   "metadata": {},
   "source": [
    "### 2.4 型(多重ディスパッチ)\n",
    "引数の型に応じた別の関数を定義する．オーバーロードと似ているが，実行時に型で解決される点が異なる．Int64のような具体型だけでなく，Numberのような抽象型でも利用可能．"
   ]
  },
  {
   "cell_type": "code",
   "execution_count": 12,
   "metadata": {},
   "outputs": [
    {
     "data": {
      "text/plain": [
       "square3 (generic function with 2 methods)"
      ]
     },
     "execution_count": 12,
     "metadata": {},
     "output_type": "execute_result"
    }
   ],
   "source": [
    "function square3(x::Int64; y::Int64=3)\n",
    "    (x*x, y*y)\n",
    "end"
   ]
  },
  {
   "cell_type": "code",
   "execution_count": 13,
   "metadata": {},
   "outputs": [
    {
     "data": {
      "text/plain": [
       "(4, 9)"
      ]
     },
     "execution_count": 13,
     "metadata": {},
     "output_type": "execute_result"
    }
   ],
   "source": [
    "square3(2) # 新規に定義したInt64型引数の関数を呼び出す"
   ]
  },
  {
   "cell_type": "code",
   "execution_count": 14,
   "metadata": {},
   "outputs": [
    {
     "data": {
      "text/plain": [
       "2-element Array{Float64,1}:\n",
       " 4.0\n",
       " 9.0"
      ]
     },
     "execution_count": 14,
     "metadata": {},
     "output_type": "execute_result"
    }
   ],
   "source": [
    "square3(2.0) # 従来の関数を呼び出す"
   ]
  },
  {
   "cell_type": "markdown",
   "metadata": {},
   "source": [
    "### 2.4.4 複合型(struct)\n",
    "他の言語のクラス・構造体のこと．Juliaではクラスのように複合型に対する関数の関連付けはしない．関数はグローバルであり，多重ディスパッチによって型との関連を示す．"
   ]
  },
  {
   "cell_type": "code",
   "execution_count": 15,
   "metadata": {},
   "outputs": [],
   "source": [
    "mutable struct Air\n",
    "    temp\n",
    "    humid\n",
    "end"
   ]
  },
  {
   "cell_type": "code",
   "execution_count": 16,
   "metadata": {},
   "outputs": [
    {
     "data": {
      "text/plain": [
       "discomfortIndex (generic function with 1 method)"
      ]
     },
     "execution_count": 16,
     "metadata": {},
     "output_type": "execute_result"
    }
   ],
   "source": [
    "# 不快指数を計算するプログラム\n",
    "function discomfortIndex(a::Air)\n",
    "    0.81a.temp+0.01a.humid*(0.99a.temp-14.3)+46.3\n",
    "end"
   ]
  },
  {
   "cell_type": "code",
   "execution_count": 17,
   "metadata": {},
   "outputs": [
    {
     "data": {
      "text/plain": [
       "Air(25.0, 50.0)"
      ]
     },
     "execution_count": 17,
     "metadata": {},
     "output_type": "execute_result"
    }
   ],
   "source": [
    "a = Air(25.0, 50.0)"
   ]
  },
  {
   "cell_type": "code",
   "execution_count": 18,
   "metadata": {},
   "outputs": [
    {
     "data": {
      "text/plain": [
       "71.775"
      ]
     },
     "execution_count": 18,
     "metadata": {},
     "output_type": "execute_result"
    }
   ],
   "source": [
    "discomfortIndex(a)"
   ]
  },
  {
   "cell_type": "markdown",
   "metadata": {},
   "source": [
    "## 2.7 モジュール\n",
    "### 2.7.1 モジュールの機能"
   ]
  },
  {
   "cell_type": "markdown",
   "metadata": {},
   "source": [
    "Juliaの名前空間．マクロで現在どのモジュールが有効になっているか確認できる．"
   ]
  },
  {
   "cell_type": "code",
   "execution_count": 19,
   "metadata": {},
   "outputs": [
    {
     "data": {
      "text/plain": [
       "Main"
      ]
     },
     "execution_count": 19,
     "metadata": {},
     "output_type": "execute_result"
    }
   ],
   "source": [
    "@__MODULE__"
   ]
  },
  {
   "cell_type": "markdown",
   "metadata": {},
   "source": [
    "### 2.7.2 既存モジュールの利用\n",
    "既存モジュールを使うときはusing XXXX  \n",
    "\"usnig モジュール名: 関数名\"とすると，指定した関数のみ使用可能になる．  "
   ]
  },
  {
   "cell_type": "code",
   "execution_count": 20,
   "metadata": {},
   "outputs": [
    {
     "data": {
      "text/plain": [
       " * Status: success\n",
       "\n",
       " * Candidate solution\n",
       "    Final objective value:     4.079297e+01\n",
       "\n",
       " * Found with\n",
       "    Algorithm:     Nelder-Mead\n",
       "\n",
       " * Convergence measures\n",
       "    √(Σ(yᵢ-ȳ)²)/n ≤ 1.0e-08\n",
       "\n",
       " * Work counters\n",
       "    Seconds run:   0  (vs limit Inf)\n",
       "    Iterations:    49\n",
       "    f(x) calls:    102\n"
      ]
     },
     "execution_count": 20,
     "metadata": {},
     "output_type": "execute_result"
    }
   ],
   "source": [
    "# 最初に使うときだけ，Pkg.addもしくはパッケージモードでモジュールをインストール\n",
    "# using Pkg\n",
    "# Pkg.update()\n",
    "# Pkg.add(\"Optim\")\n",
    "using Optim\n",
    "\n",
    "# Optimのoptimize関数でネルだーミード法によるrastrigin関数の最適化．最適解(0,0)に収束しない．\n",
    "rastrigin(x) = 10length(x) + sum( x.^2-10cos.(2pi*x) )\n",
    "optimize(rastrigin, [5.0, 5.0])"
   ]
  },
  {
   "cell_type": "markdown",
   "metadata": {},
   "source": [
    "### 2.7.3 usingの注意点\n",
    "規模の大きな開発や複数人で開発するプログラムの場合，使う関数のみ明示的に指定したほうが良い．"
   ]
  },
  {
   "cell_type": "code",
   "execution_count": 21,
   "metadata": {},
   "outputs": [],
   "source": [
    "using Random: MersenneTwister"
   ]
  },
  {
   "cell_type": "code",
   "execution_count": 22,
   "metadata": {},
   "outputs": [
    {
     "data": {
      "text/plain": [
       "MersenneTwister(UInt32[0x000004d2], Random.DSFMT.DSFMT_state(Int32[-1393240018, 1073611148, 45497681, 1072875908, 436273599, 1073674613, -2043716458, 1073445557, -254908435, 1072827086  …  -599655111, 1073144102, 367655457, 1072985259, -1278750689, 1018350124, -597141475, 249849711, 382, 0]), [0.0, 0.0, 0.0, 0.0, 0.0, 0.0, 0.0, 0.0, 0.0, 0.0  …  0.0, 0.0, 0.0, 0.0, 0.0, 0.0, 0.0, 0.0, 0.0, 0.0], UInt128[0x00000000000000000000000000000000, 0x00000000000000000000000000000000, 0x00000000000000000000000000000000, 0x00000000000000000000000000000000, 0x00000000000000000000000000000000, 0x00000000000000000000000000000000, 0x00000000000000000000000000000000, 0x00000000000000000000000000000000, 0x00000000000000000000000000000000, 0x00000000000000000000000000000000  …  0x00000000000000000000000000000000, 0x00000000000000000000000000000000, 0x00000000000000000000000000000000, 0x00000000000000000000000000000000, 0x00000000000000000000000000000000, 0x00000000000000000000000000000000, 0x00000000000000000000000000000000, 0x00000000000000000000000000000000, 0x00000000000000000000000000000000, 0x00000000000000000000000000000000], 1002, 0)"
      ]
     },
     "execution_count": 22,
     "metadata": {},
     "output_type": "execute_result"
    }
   ],
   "source": [
    "rng = MersenneTwister(1234)"
   ]
  },
  {
   "cell_type": "code",
   "execution_count": 23,
   "metadata": {},
   "outputs": [
    {
     "ename": "LoadError",
     "evalue": "UndefVarError: randstring not defined",
     "output_type": "error",
     "traceback": [
      "UndefVarError: randstring not defined",
      "",
      "Stacktrace:",
      " [1] top-level scope at In[23]:2",
      " [2] include_string(::Function, ::Module, ::String, ::String) at .\\loading.jl:1091"
     ]
    }
   ],
   "source": [
    "# 指定してないので使えない\n",
    "randstring(rng, ['A','B','C'], 8)"
   ]
  },
  {
   "cell_type": "code",
   "execution_count": 24,
   "metadata": {},
   "outputs": [
    {
     "data": {
      "text/plain": [
       "\"ABCACACB\""
      ]
     },
     "execution_count": 24,
     "metadata": {},
     "output_type": "execute_result"
    }
   ],
   "source": [
    "# 指定すれば使える．\n",
    "using Random: randstring\n",
    "randstring(rng, ['A','B','C'], 8)"
   ]
  },
  {
   "cell_type": "markdown",
   "metadata": {},
   "source": [
    "### 2.7.4 新しいモジュールの定義\n",
    "自分で新しいモジュールを定義可能"
   ]
  },
  {
   "cell_type": "code",
   "execution_count": 25,
   "metadata": {},
   "outputs": [
    {
     "data": {
      "text/plain": [
       "Main.Moistair"
      ]
     },
     "execution_count": 25,
     "metadata": {},
     "output_type": "execute_result"
    }
   ],
   "source": [
    "# 湿り空気状態の計算をするモジュール\n",
    "module Moistair\n",
    "\n",
    "export Air2, discomfortindex, abshumid, spenthalpy\n",
    "\n",
    "mutable struct Air2\n",
    "    temp\n",
    "    humid\n",
    "end\n",
    "\n",
    "function discomfortindex(air::Air2)\n",
    "    0.81air.temp+0.01air.humid*(0.99air.temp-14.3)+46.3\n",
    "end\n",
    "\n",
    "function abshumid(air::Air2)\n",
    "    t=air.temp\n",
    "    e = 6.1078 * 10^( 7.5t/(t+237.3) )\n",
    "    a = 217e / (t+273.15)\n",
    "    a*air.humid/100\n",
    "end\n",
    "\n",
    "end"
   ]
  },
  {
   "cell_type": "markdown",
   "metadata": {},
   "source": [
    "自分で定義したモジュールを使うときは，\"using .XXXX\"\n",
    "exportで指定したものだけ使用可能"
   ]
  },
  {
   "cell_type": "code",
   "execution_count": 26,
   "metadata": {},
   "outputs": [
    {
     "data": {
      "text/plain": [
       "6.9229581117129655"
      ]
     },
     "execution_count": 26,
     "metadata": {},
     "output_type": "execute_result"
    }
   ],
   "source": [
    "using .Moistair: abshumid  # abshumidはモジュール名なしで使用可能\n",
    "air = Moistair.Air2(20, 40) # Moistair.Airはusingで指定してないので，モジュール名をつけないと使用できない．\n",
    "abshumid(air)"
   ]
  },
  {
   "cell_type": "markdown",
   "metadata": {},
   "source": [
    "モジュールは入れ子にすることも可能  \n",
    "### 2.7.6 ファイル分割\n",
    "異なるファイルに入れたときはinclude(ファイルのパス)を利用すると，include()の箇所にファイルの中身が展開される．"
   ]
  },
  {
   "cell_type": "markdown",
   "metadata": {},
   "source": [
    "## 2.8 メタプログラミング\n",
    "### 2.8.6 標準プログラムのマクロ\n",
    "* @assert 後ろに続く条件が成立しない場合AssertionError例外を出す．\n",
    "* @time 関数の実行にかかった時間やメモリ使用量を表示する"
   ]
  },
  {
   "cell_type": "markdown",
   "metadata": {},
   "source": [
    "### 2.8.7 マクロの定義, 2.8.2 構文木の表現, 2.8.3 構文木の補間, 2.8.4 構文木の評価\n",
    "macroキーワードでユーザーがマクロを定義できる．  \n",
    "以下のマクロは，入力されたコードをそのまま文字列として出力する．"
   ]
  },
  {
   "cell_type": "code",
   "execution_count": 27,
   "metadata": {},
   "outputs": [
    {
     "data": {
      "text/plain": [
       "@output (macro with 1 method)"
      ]
     },
     "execution_count": 27,
     "metadata": {},
     "output_type": "execute_result"
    }
   ],
   "source": [
    "macro output(x)\n",
    "    println(x)\n",
    "end"
   ]
  },
  {
   "cell_type": "code",
   "execution_count": 28,
   "metadata": {},
   "outputs": [
    {
     "data": {
      "text/plain": [
       "10.0"
      ]
     },
     "execution_count": 28,
     "metadata": {},
     "output_type": "execute_result"
    }
   ],
   "source": [
    "y=10.0"
   ]
  },
  {
   "cell_type": "code",
   "execution_count": 29,
   "metadata": {},
   "outputs": [
    {
     "name": "stdout",
     "output_type": "stream",
     "text": [
      "y\n"
     ]
    }
   ],
   "source": [
    "@output y"
   ]
  },
  {
   "cell_type": "markdown",
   "metadata": {},
   "source": [
    "`@output`マクロはコードをそのまま表示するだけ．  \n",
    "コード自体を実行させる場合，構文木オブジェクトとしてマクロを定義する．構文木は，`:(～ )`か，あるいは`quote～end`で定義する．ただし，構文木として定義するだけでは，マクロの引数が置き換えられない．"
   ]
  },
  {
   "cell_type": "code",
   "execution_count": 30,
   "metadata": {},
   "outputs": [
    {
     "data": {
      "text/plain": [
       "@output2 (macro with 1 method)"
      ]
     },
     "execution_count": 30,
     "metadata": {},
     "output_type": "execute_result"
    }
   ],
   "source": [
    "macro output2(x)\n",
    "    quote\n",
    "        println(x)\n",
    "    end\n",
    "end"
   ]
  },
  {
   "cell_type": "code",
   "execution_count": 41,
   "metadata": {},
   "outputs": [
    {
     "name": "stdout",
     "output_type": "stream",
     "text": [
      "-1\n"
     ]
    }
   ],
   "source": [
    "@output2 y\n",
    "# xの結果が出力されてしまう．"
   ]
  },
  {
   "cell_type": "markdown",
   "metadata": {},
   "source": [
    "そこで，構文木の変数の箇所を，`$`記号をつけてマクロの引数に置き換える．これを補間という．"
   ]
  },
  {
   "cell_type": "code",
   "execution_count": 32,
   "metadata": {},
   "outputs": [
    {
     "data": {
      "text/plain": [
       "@output3 (macro with 1 method)"
      ]
     },
     "execution_count": 32,
     "metadata": {},
     "output_type": "execute_result"
    }
   ],
   "source": [
    "macro output3(x)\n",
    "    :(\n",
    "        println($x)\n",
    "    )\n",
    "end"
   ]
  },
  {
   "cell_type": "code",
   "execution_count": 33,
   "metadata": {},
   "outputs": [
    {
     "name": "stdout",
     "output_type": "stream",
     "text": [
      "10.0\n"
     ]
    }
   ],
   "source": [
    "@output3 y"
   ]
  },
  {
   "cell_type": "markdown",
   "metadata": {},
   "source": [
    "逆に文字列のままにする場合は，string()を使えばいい．"
   ]
  },
  {
   "cell_type": "code",
   "execution_count": 34,
   "metadata": {},
   "outputs": [
    {
     "data": {
      "text/plain": [
       "@output4 (macro with 1 method)"
      ]
     },
     "execution_count": 34,
     "metadata": {},
     "output_type": "execute_result"
    }
   ],
   "source": [
    "macro output4(x)\n",
    "    quote\n",
    "        println($(string(x)), \"は，\", $x, \"です．\")\n",
    "    end\n",
    "end"
   ]
  },
  {
   "cell_type": "code",
   "execution_count": 35,
   "metadata": {},
   "outputs": [
    {
     "name": "stdout",
     "output_type": "stream",
     "text": [
      "yは，10.0です．\n"
     ]
    }
   ],
   "source": [
    "@output4 y"
   ]
  },
  {
   "cell_type": "markdown",
   "metadata": {},
   "source": [
    "ただし，マクロが引数の展開をする際，何も指定しないと引数はMainモジュールのグローバル変数として扱われる．  \n",
    "例えば，`@output4 Air2.temp`というマクロを展開すると，Main.Air2.tempとなってしまう．"
   ]
  },
  {
   "cell_type": "code",
   "execution_count": 36,
   "metadata": {},
   "outputs": [
    {
     "data": {
      "text/plain": [
       "quote\n",
       "    #= In[34]:3 =#\n",
       "    Main.println(\"Air2.temp\", \"は，\", (Main.Air2).temp, \"です．\")\n",
       "end"
      ]
     },
     "execution_count": 36,
     "metadata": {},
     "output_type": "execute_result"
    }
   ],
   "source": [
    "# マクロを展開すると，\n",
    "@macroexpand @output4 Air2.temp"
   ]
  },
  {
   "cell_type": "markdown",
   "metadata": {},
   "source": [
    "そのため，関数やモジュールの中でマクロを実行すると，うまく変数が認識されない．  \n",
    "例えば以下の関数では，関数内のローカル変数xの値が表示されてほしいのだが，グローバル変数Main.xを参照してしまう．"
   ]
  },
  {
   "cell_type": "code",
   "execution_count": 42,
   "metadata": {},
   "outputs": [
    {
     "name": "stdout",
     "output_type": "stream",
     "text": [
      "xは，-1です．\n"
     ]
    },
    {
     "data": {
      "text/plain": [
       "37.69185227914985"
      ]
     },
     "execution_count": 42,
     "metadata": {},
     "output_type": "execute_result"
    }
   ],
   "source": [
    "# 比エンタルピを計算する関数\n",
    "function spenthalpy(air::Moistair.Air2)\n",
    "    t = air.temp\n",
    "    x = Moistair.abshumid(air)\n",
    "    @output4 x\n",
    "    1.006t+(0.00186t+2.501)x\n",
    "end\n",
    "spenthalpy(air)"
   ]
  },
  {
   "cell_type": "markdown",
   "metadata": {},
   "source": [
    "これを回避するために，`esc()`をつける．するとグローバル変数ではなくローカル変数として取り扱われる．"
   ]
  },
  {
   "cell_type": "code",
   "execution_count": 43,
   "metadata": {},
   "outputs": [
    {
     "data": {
      "text/plain": [
       "@output5 (macro with 1 method)"
      ]
     },
     "execution_count": 43,
     "metadata": {},
     "output_type": "execute_result"
    }
   ],
   "source": [
    "macro output5(x)\n",
    "    quote\n",
    "        println($(string(x)), \"は，\", $(esc(x)), \"です．\")\n",
    "    end\n",
    "end"
   ]
  },
  {
   "cell_type": "code",
   "execution_count": 44,
   "metadata": {},
   "outputs": [
    {
     "data": {
      "text/plain": [
       "quote\n",
       "    #= In[43]:3 =#\n",
       "    Main.println(\"x\", \"は，\", x, \"です．\")\n",
       "end"
      ]
     },
     "execution_count": 44,
     "metadata": {},
     "output_type": "execute_result"
    }
   ],
   "source": [
    "@macroexpand @output5 x"
   ]
  },
  {
   "cell_type": "code",
   "execution_count": 45,
   "metadata": {},
   "outputs": [
    {
     "name": "stdout",
     "output_type": "stream",
     "text": [
      "xは，6.9229581117129655です．\n"
     ]
    },
    {
     "data": {
      "text/plain": [
       "37.69185227914985"
      ]
     },
     "execution_count": 45,
     "metadata": {},
     "output_type": "execute_result"
    }
   ],
   "source": [
    "# 比エンタルピを計算する関数\n",
    "function spenthalpy2(air::Moistair.Air2)\n",
    "    t = air.temp\n",
    "    x = Moistair.abshumid(air)\n",
    "    @output5 x\n",
    "    1.006t+(0.00186t+2.501)x\n",
    "end\n",
    "spenthalpy2(air)"
   ]
  },
  {
   "cell_type": "markdown",
   "metadata": {},
   "source": [
    "マクロ機能を使うには別個でトレーニングが必要そう．"
   ]
  }
 ],
 "metadata": {
  "kernelspec": {
   "display_name": "Julia 1.5.3",
   "language": "julia",
   "name": "julia-1.5"
  },
  "language_info": {
   "file_extension": ".jl",
   "mimetype": "application/julia",
   "name": "julia",
   "version": "1.5.3"
  }
 },
 "nbformat": 4,
 "nbformat_minor": 4
}
